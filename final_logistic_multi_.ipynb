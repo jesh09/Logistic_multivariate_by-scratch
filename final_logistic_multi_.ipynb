{
  "nbformat": 4,
  "nbformat_minor": 0,
  "metadata": {
    "colab": {
      "name": "final_logistic_multi_",
      "version": "0.3.2",
      "provenance": [],
      "collapsed_sections": []
    },
    "kernelspec": {
      "name": "python3",
      "display_name": "Python 3"
    }
  },
  "cells": [
    {
      "cell_type": "code",
      "metadata": {
        "id": "Ty_mSwTmJS5D",
        "colab_type": "code",
        "colab": {}
      },
      "source": [
        "# Code to read csv file into Colaboratory:\n",
        "\n",
        "!pip install -U -q PyDrive\n",
        "from pydrive.auth import GoogleAuth\n",
        "from pydrive.drive import GoogleDrive\n",
        "from google.colab import auth\n",
        "from oauth2client.client import GoogleCredentials\n",
        "\n",
        "# Authenticate and create the PyDrive client.\n",
        "auth.authenticate_user()\n",
        "gauth = GoogleAuth()\n",
        "gauth.credentials = GoogleCredentials.get_application_default()\n",
        "drive = GoogleDrive(gauth)"
      ],
      "execution_count": 0,
      "outputs": []
    },
    {
      "cell_type": "code",
      "metadata": {
        "id": "h2Iejfg6JP6R",
        "colab_type": "code",
        "colab": {}
      },
      "source": [
        "import pandas as pd\n",
        "import numpy as np\n",
        "import matplotlib.pyplot as plt\n",
        "import matplotlib.animation as animation\n",
        "from pandas import Series\n",
        "from numpy.random import randn"
      ],
      "execution_count": 0,
      "outputs": []
    },
    {
      "cell_type": "code",
      "metadata": {
        "id": "ehT-YkyRJUSi",
        "colab_type": "code",
        "colab": {}
      },
      "source": [
        "link = 'https://drive.google.com/open?id=1hGMPRpSmEEGzBhar7j2gVmgp05H_-EJL'"
      ],
      "execution_count": 0,
      "outputs": []
    },
    {
      "cell_type": "code",
      "metadata": {
        "id": "ABTKmNtSJa0h",
        "colab_type": "code",
        "outputId": "94021f44-92bc-4f03-8624-024b43ce4187",
        "colab": {
          "base_uri": "https://localhost:8080/",
          "height": 206
        }
      },
      "source": [
        "fluff, id = link.split('=')\n",
        "downloaded = drive.CreateFile({'id':id}) \n",
        "downloaded.GetContentFile('affairs.csv')  \n",
        "data = pd.read_csv('affairs.csv')\n",
        "data.head()"
      ],
      "execution_count": 131,
      "outputs": [
        {
          "output_type": "execute_result",
          "data": {
            "text/html": [
              "<div>\n",
              "<style scoped>\n",
              "    .dataframe tbody tr th:only-of-type {\n",
              "        vertical-align: middle;\n",
              "    }\n",
              "\n",
              "    .dataframe tbody tr th {\n",
              "        vertical-align: top;\n",
              "    }\n",
              "\n",
              "    .dataframe thead th {\n",
              "        text-align: right;\n",
              "    }\n",
              "</style>\n",
              "<table border=\"1\" class=\"dataframe\">\n",
              "  <thead>\n",
              "    <tr style=\"text-align: right;\">\n",
              "      <th></th>\n",
              "      <th>rate_marriage</th>\n",
              "      <th>age</th>\n",
              "      <th>yrs_married</th>\n",
              "      <th>children</th>\n",
              "      <th>religious</th>\n",
              "      <th>educ</th>\n",
              "      <th>occupation</th>\n",
              "      <th>occupation_husb</th>\n",
              "      <th>affairs</th>\n",
              "      <th>affair</th>\n",
              "    </tr>\n",
              "  </thead>\n",
              "  <tbody>\n",
              "    <tr>\n",
              "      <th>0</th>\n",
              "      <td>3.0</td>\n",
              "      <td>32.0</td>\n",
              "      <td>9.0</td>\n",
              "      <td>3.0</td>\n",
              "      <td>3.0</td>\n",
              "      <td>17.0</td>\n",
              "      <td>2.0</td>\n",
              "      <td>5.0</td>\n",
              "      <td>0.111111</td>\n",
              "      <td>1</td>\n",
              "    </tr>\n",
              "    <tr>\n",
              "      <th>1</th>\n",
              "      <td>3.0</td>\n",
              "      <td>27.0</td>\n",
              "      <td>13.0</td>\n",
              "      <td>3.0</td>\n",
              "      <td>1.0</td>\n",
              "      <td>14.0</td>\n",
              "      <td>3.0</td>\n",
              "      <td>4.0</td>\n",
              "      <td>3.230769</td>\n",
              "      <td>1</td>\n",
              "    </tr>\n",
              "    <tr>\n",
              "      <th>2</th>\n",
              "      <td>4.0</td>\n",
              "      <td>22.0</td>\n",
              "      <td>2.5</td>\n",
              "      <td>0.0</td>\n",
              "      <td>1.0</td>\n",
              "      <td>16.0</td>\n",
              "      <td>3.0</td>\n",
              "      <td>5.0</td>\n",
              "      <td>1.400000</td>\n",
              "      <td>1</td>\n",
              "    </tr>\n",
              "    <tr>\n",
              "      <th>3</th>\n",
              "      <td>4.0</td>\n",
              "      <td>37.0</td>\n",
              "      <td>16.5</td>\n",
              "      <td>4.0</td>\n",
              "      <td>3.0</td>\n",
              "      <td>16.0</td>\n",
              "      <td>5.0</td>\n",
              "      <td>5.0</td>\n",
              "      <td>0.727273</td>\n",
              "      <td>1</td>\n",
              "    </tr>\n",
              "    <tr>\n",
              "      <th>4</th>\n",
              "      <td>5.0</td>\n",
              "      <td>27.0</td>\n",
              "      <td>9.0</td>\n",
              "      <td>1.0</td>\n",
              "      <td>1.0</td>\n",
              "      <td>14.0</td>\n",
              "      <td>3.0</td>\n",
              "      <td>4.0</td>\n",
              "      <td>4.666666</td>\n",
              "      <td>1</td>\n",
              "    </tr>\n",
              "  </tbody>\n",
              "</table>\n",
              "</div>"
            ],
            "text/plain": [
              "   rate_marriage   age  yrs_married  children  religious  educ  occupation  \\\n",
              "0            3.0  32.0          9.0       3.0        3.0  17.0         2.0   \n",
              "1            3.0  27.0         13.0       3.0        1.0  14.0         3.0   \n",
              "2            4.0  22.0          2.5       0.0        1.0  16.0         3.0   \n",
              "3            4.0  37.0         16.5       4.0        3.0  16.0         5.0   \n",
              "4            5.0  27.0          9.0       1.0        1.0  14.0         3.0   \n",
              "\n",
              "   occupation_husb   affairs  affair  \n",
              "0              5.0  0.111111       1  \n",
              "1              4.0  3.230769       1  \n",
              "2              5.0  1.400000       1  \n",
              "3              5.0  0.727273       1  \n",
              "4              4.0  4.666666       1  "
            ]
          },
          "metadata": {
            "tags": []
          },
          "execution_count": 131
        }
      ]
    },
    {
      "cell_type": "code",
      "metadata": {
        "id": "DLU_WKdoU3Vx",
        "colab_type": "code",
        "outputId": "2d6501f7-b6a1-4362-cb60-a047b40335d9",
        "colab": {
          "base_uri": "https://localhost:8080/",
          "height": 34
        }
      },
      "source": [
        "Data = data.select_dtypes(include=[\"int32\",\"int64\",\"float32\",\"float64\"])\n",
        "Data = Data.dropna(axis=0)\n",
        "\n",
        "\n",
        "Train = Data[:int(0.7*len(Data))]\n",
        "Test = Data[int(0.7*len(Data)):]\n",
        "\n",
        "Y = Train[\"affair\"]\n",
        "Train = Train.drop(['affair'],axis = 1).copy()\n",
        "Y.shape\n",
        "Train\n",
        "Y = np.array(Y)\n",
        "Y.shape\n",
        "Y = np.reshape(Y,[len(Y),1])\n",
        "\n",
        "print(X.shape,Y.shape)"
      ],
      "execution_count": 132,
      "outputs": [
        {
          "output_type": "stream",
          "text": [
            "(4456, 9) (4456, 1)\n"
          ],
          "name": "stdout"
        }
      ]
    },
    {
      "cell_type": "code",
      "metadata": {
        "id": "y-9XK2zhbrG1",
        "colab_type": "code",
        "outputId": "616d72b2-a994-467f-d1bd-90dd5c6ba71e",
        "colab": {
          "base_uri": "https://localhost:8080/",
          "height": 34
        }
      },
      "source": [
        "\n",
        "Train.shape\n"
      ],
      "execution_count": 133,
      "outputs": [
        {
          "output_type": "execute_result",
          "data": {
            "text/plain": [
              "(4456, 9)"
            ]
          },
          "metadata": {
            "tags": []
          },
          "execution_count": 133
        }
      ]
    },
    {
      "cell_type": "code",
      "metadata": {
        "id": "LZ3AUP_NaM_5",
        "colab_type": "code",
        "colab": {}
      },
      "source": [
        "X = Train\n",
        "SelectedFeatures = X.columns.values.tolist()\n",
        "\n",
        "X = np.array(X)\n",
        "\n",
        "for i in range(len(X.T)):\n",
        "  X.T[i] = X.T[i] + 1"
      ],
      "execution_count": 0,
      "outputs": []
    },
    {
      "cell_type": "code",
      "metadata": {
        "id": "1d-x3LAOqgtL",
        "colab_type": "code",
        "outputId": "d80d1274-ec10-4498-db62-c0d52fcce45e",
        "colab": {
          "base_uri": "https://localhost:8080/",
          "height": 34
        }
      },
      "source": [
        ""
      ],
      "execution_count": 135,
      "outputs": [
        {
          "output_type": "execute_result",
          "data": {
            "text/plain": [
              "(4456, 9)"
            ]
          },
          "metadata": {
            "tags": []
          },
          "execution_count": 135
        }
      ]
    },
    {
      "cell_type": "code",
      "metadata": {
        "id": "M6q9tQ-Sqm4c",
        "colab_type": "code",
        "colab": {}
      },
      "source": [
        ""
      ],
      "execution_count": 0,
      "outputs": []
    },
    {
      "cell_type": "code",
      "metadata": {
        "id": "yWJ5s0xlaWOr",
        "colab_type": "code",
        "colab": {}
      },
      "source": [
        "# z = np.dot(x,m)\n",
        "def sigmoid(m,x):\n",
        "  return 1/(1+np.exp(-(np.dot(x,m))))\n",
        "\n",
        "def costfunction(m,x,y):\n",
        "  return np.mean((1/(1+np.exp(np.dot(x,m)))-y)**2)\n",
        "\n",
        "def derivateofslope(m,x,y):\n",
        "  return np.mean(x*(y-(1/(1+np.exp(np.dot(x,m))))))\n",
        "\n"
      ],
      "execution_count": 0,
      "outputs": []
    },
    {
      "cell_type": "code",
      "metadata": {
        "id": "mI7gxvX9fCzT",
        "colab_type": "code",
        "colab": {}
      },
      "source": [
        "import matplotlib.pyplot as plt\n",
        "def gradientdescent(lr,m,x,y,iteration):\n",
        "  error = []\n",
        "  for i in range(iteration):\n",
        "#     print(m)\n",
        "#     cost = costfunction(m,x,y)\n",
        "#     print(cost)\n",
        "    m = m - (lr*derivateofslope(m,x,y))\n",
        "#     print(m)\n",
        "#     print(derivateofslope(m,x,y))\n",
        "    #c = c-lr * derivativeofintercept(m,X,Y)\n",
        "    cost = costfunction(m,x,y)\n",
        "    #print(cost)\n",
        "    error.append(cost)\n",
        "    if(i%10==0):\n",
        "      print(\"error: \",error[i],\"iteration: \",i)\n",
        "  plt.plot(error)\n",
        "  plt.show()\n",
        "  return cost\n",
        "\n",
        "\n"
      ],
      "execution_count": 0,
      "outputs": []
    },
    {
      "cell_type": "code",
      "metadata": {
        "id": "r4f3g4ExiOzX",
        "colab_type": "code",
        "outputId": "1ac2d4b6-3a9c-4726-d07e-313cade935e3",
        "colab": {
          "base_uri": "https://localhost:8080/",
          "height": 2023
        }
      },
      "source": [
        "lr = 0.00002\n",
        "iteration = 1000\n",
        "m = np.random.randn((len(X.T)),1)/1000\n",
        "#c = np.random.randn()\n",
        "gradientdescent(lr,m,X,Y,iteration)"
      ],
      "execution_count": 166,
      "outputs": [
        {
          "output_type": "stream",
          "text": [
            "error:  0.25053893743296907 iteration:  0\n",
            "error:  0.2505140564123751 iteration:  10\n",
            "error:  0.250490861623257 iteration:  20\n",
            "error:  0.250469238710267 iteration:  30\n",
            "error:  0.250449081064398 iteration:  40\n",
            "error:  0.250430289300695 iteration:  50\n",
            "error:  0.25041277077075375 iteration:  60\n",
            "error:  0.2503964391077573 iteration:  70\n",
            "error:  0.25038121380193284 iteration:  80\n",
            "error:  0.2503670198044466 iteration:  90\n",
            "error:  0.25035378715786927 iteration:  100\n",
            "error:  0.25034145065146785 iteration:  110\n",
            "error:  0.2503299494996839 iteration:  120\n",
            "error:  0.2503192270422641 iteration:  130\n",
            "error:  0.2503092304646074 iteration:  140\n",
            "error:  0.25029991053698236 iteration:  150\n",
            "error:  0.2502912213713585 iteration:  160\n",
            "error:  0.25028312019467336 iteration:  170\n",
            "error:  0.25027556713743604 iteration:  180\n",
            "error:  0.2502685250366391 iteration:  190\n",
            "error:  0.25026195925201744 iteration:  200\n",
            "error:  0.25025583749475755 iteration:  210\n",
            "error:  0.25025012966781796 iteration:  220\n",
            "error:  0.25024480771707874 iteration:  230\n",
            "error:  0.25023984549258943 iteration:  240\n",
            "error:  0.2502352186192329 iteration:  250\n",
            "error:  0.25023090437616924 iteration:  260\n",
            "error:  0.2502268815844648 iteration:  270\n",
            "error:  0.2502231305023531 iteration:  280\n",
            "error:  0.25021963272761044 iteration:  290\n",
            "error:  0.2502163711065634 iteration:  300\n",
            "error:  0.2502133296492792 iteration:  310\n",
            "error:  0.25021049345051916 iteration:  320\n",
            "error:  0.2502078486160638 iteration:  330\n",
            "error:  0.2502053821940454 iteration:  340\n",
            "error:  0.250203082110948 iteration:  350\n",
            "error:  0.25020093711195657 iteration:  360\n",
            "error:  0.2501989367053619 iteration:  370\n",
            "error:  0.2501970711107433 iteration:  380\n",
            "error:  0.2501953312106739 iteration:  390\n",
            "error:  0.2501937085057085 iteration:  400\n",
            "error:  0.2501921950724309 iteration:  410\n",
            "error:  0.25019078352435226 iteration:  420\n",
            "error:  0.2501894669754673 iteration:  430\n",
            "error:  0.2501882390062869 iteration:  440\n",
            "error:  0.25018709363217934 iteration:  450\n",
            "error:  0.25018602527386236 iteration:  460\n",
            "error:  0.2501850287299007 iteration:  470\n",
            "error:  0.2501840991510717 iteration:  480\n",
            "error:  0.2501832320164727 iteration:  490\n",
            "error:  0.25018242311125166 iteration:  500\n",
            "error:  0.2501816685058502 iteration:  510\n",
            "error:  0.25018096453665656 iteration:  520\n",
            "error:  0.25018030778797207 iteration:  530\n",
            "error:  0.2501796950752033 iteration:  540\n",
            "error:  0.2501791234291945 iteration:  550\n",
            "error:  0.25017859008162385 iteration:  560\n",
            "error:  0.25017809245139183 iteration:  570\n",
            "error:  0.2501776281319329 iteration:  580\n",
            "error:  0.2501771948793889 iteration:  590\n",
            "error:  0.25017679060158454 iteration:  600\n",
            "error:  0.2501764133477516 iteration:  610\n",
            "error:  0.25017606129895015 iteration:  620\n",
            "error:  0.25017573275913957 iteration:  630\n",
            "error:  0.25017542614685545 iteration:  640\n",
            "error:  0.25017513998745117 iteration:  650\n",
            "error:  0.2501748729058656 iteration:  660\n",
            "error:  0.2501746236198809 iteration:  670\n",
            "error:  0.2501743909338391 iteration:  680\n",
            "error:  0.25017417373278195 iteration:  690\n",
            "error:  0.250173970976991 iteration:  700\n",
            "error:  0.25017378169689597 iteration:  710\n",
            "error:  0.2501736049883291 iteration:  720\n",
            "error:  0.25017344000810043 iteration:  730\n",
            "error:  0.250173285969874 iteration:  740\n",
            "error:  0.2501731421403224 iteration:  750\n",
            "error:  0.2501730078355426 iteration:  760\n",
            "error:  0.25017288241771435 iteration:  770\n",
            "error:  0.2501727652919849 iteration:  780\n",
            "error:  0.25017265590356497 iteration:  790\n",
            "error:  0.25017255373502106 iteration:  800\n",
            "error:  0.25017245830375123 iteration:  810\n",
            "error:  0.2501723691596323 iteration:  820\n",
            "error:  0.25017228588282553 iteration:  830\n",
            "error:  0.2501722080817313 iteration:  840\n",
            "error:  0.2501721353910824 iteration:  850\n",
            "error:  0.25017206747016607 iteration:  860\n",
            "error:  0.2501720040011662 iteration:  870\n",
            "error:  0.25017194468761833 iteration:  880\n",
            "error:  0.2501718892529688 iteration:  890\n",
            "error:  0.2501718374392311 iteration:  900\n",
            "error:  0.25017178900573367 iteration:  910\n",
            "error:  0.2501717437279521 iteration:  920\n",
            "error:  0.25017170139642014 iteration:  930\n",
            "error:  0.2501716618157148 iteration:  940\n",
            "error:  0.25017162480350974 iteration:  950\n",
            "error:  0.2501715901896925 iteration:  960\n",
            "error:  0.250171557815542 iteration:  970\n",
            "error:  0.25017152753296096 iteration:  980\n",
            "error:  0.2501714992037606 iteration:  990\n"
          ],
          "name": "stdout"
        },
        {
          "output_type": "display_data",
          "data": {
            "image/png": "[encoded data removed]",
            "text/plain": [
              "<Figure size 432x288 with 1 Axes>"
            ]
          },
          "metadata": {
            "tags": []
          }
        },
        {
          "output_type": "execute_result",
          "data": {
            "text/plain": [
              "0.2501714752708649"
            ]
          },
          "metadata": {
            "tags": []
          },
          "execution_count": 166
        }
      ]
    },
    {
      "cell_type": "code",
      "metadata": {
        "id": "JPpRssADiTks",
        "colab_type": "code",
        "outputId": "e22bc799-9e8e-4259-f266-400ce2c4becf",
        "colab": {
          "base_uri": "https://localhost:8080/",
          "height": 34
        }
      },
      "source": [
        "error = costfunction(m,X,Y)\n",
        "error\n",
        "acc = 100 - (error/np.mean(Y**2))*100\n",
        "# # print(acc.shape)\n",
        "print(\"Accuracy: \",acc,\"%\")"
      ],
      "execution_count": 163,
      "outputs": [
        {
          "output_type": "stream",
          "text": [
            "Accuracy:  45.71842183625407 %\n"
          ],
          "name": "stdout"
        }
      ]
    },
    {
      "cell_type": "code",
      "metadata": {
        "id": "-X5ro3W7l-Ke",
        "colab_type": "code",
        "colab": {}
      },
      "source": [
        ""
      ],
      "execution_count": 0,
      "outputs": []
    }
  ]
}